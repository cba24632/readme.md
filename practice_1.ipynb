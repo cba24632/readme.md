{
 "cells": [
  {
   "cell_type": "markdown",
   "id": "9a3a5a3d",
   "metadata": {},
   "source": [
    "## Welcome to Python programming\n",
    "Image: ![This is SN labs New Launcher](https://cf-courses-data.s3.us.cloud-object-storage.appdomain.cloud/IBMDeveloperSkillsNetwork-DS0105EN-SkillsNetwork/labs/Labs_V4/images/Launcher.png)\n"
   ]
  },
  {
   "cell_type": "markdown",
   "id": "5c266d34",
   "metadata": {},
   "source": [
    "# Write your markdown here\n",
    "[\"Tools For Data Science\"](https://www.coursera.org/learn/open-source-tools-for-data-science/home)"
   ]
  },
  {
   "cell_type": "markdown",
   "id": "3bb6f638",
   "metadata": {},
   "source": [
    "| Fruits | Quantity(Kg) | Price(in rupee) |\n",
    "|--------|---------------|----------------|\n",
    "| Apple | 2 | 500 |\n",
    "| Orange | 1 | 200 |\n",
    "| Mango | 3 | 1000 |\n",
    "| Grapes | 2 | 400 |"
   ]
  },
  {
   "cell_type": "markdown",
   "id": "c2a3a1c8",
   "metadata": {},
   "source": [
    "1. Python\n",
    "2. Java\n",
    "3. C++\n",
    "4. C"
   ]
  }
 ],
 "metadata": {
  "language_info": {
   "name": "python"
  }
 },
 "nbformat": 4,
 "nbformat_minor": 5
}
